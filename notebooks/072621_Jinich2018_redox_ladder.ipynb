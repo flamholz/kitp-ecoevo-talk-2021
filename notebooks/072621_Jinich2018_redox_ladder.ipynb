{
 "cells": [
  {
   "cell_type": "code",
   "execution_count": 59,
   "id": "716de5ef-6fb9-482d-b73e-1c1e227192ef",
   "metadata": {},
   "outputs": [],
   "source": [
    "import pandas as pd\n",
    "import seaborn as sns\n",
    "import numpy as np\n",
    "\n",
    "from matplotlib import pyplot as plt\n",
    "\n",
    "!mkdir -p ../figures"
   ]
  },
  {
   "cell_type": "code",
   "execution_count": 5,
   "id": "e5475d2d-da64-427d-9a67-ad27b204a73d",
   "metadata": {},
   "outputs": [],
   "source": [
    "rxn_df = pd.read_excel('../data/jinich2018_dataset_S1.xlsx')\n",
    "rxn_df.columns = ['redox_pair_names', 'KEGG_ID', 'category', 'Em_quantum_pH7_I25',\n",
    "       'Em_GCM_pH7_I25', 'Em_experiment_pH7_I25', 'KEGG',\n",
    "       'Unnamed: 7', 'Unnamed: 8']"
   ]
  },
  {
   "cell_type": "code",
   "execution_count": 72,
   "id": "05dfecbf-e872-46a7-a3c8-d47bec53c1bf",
   "metadata": {},
   "outputs": [
    {
     "data": {
      "text/html": [
       "<div>\n",
       "<style scoped>\n",
       "    .dataframe tbody tr th:only-of-type {\n",
       "        vertical-align: middle;\n",
       "    }\n",
       "\n",
       "    .dataframe tbody tr th {\n",
       "        vertical-align: top;\n",
       "    }\n",
       "\n",
       "    .dataframe thead th {\n",
       "        text-align: right;\n",
       "    }\n",
       "</style>\n",
       "<table border=\"1\" class=\"dataframe\">\n",
       "  <thead>\n",
       "    <tr style=\"text-align: right;\">\n",
       "      <th></th>\n",
       "      <th>redox_pair_names</th>\n",
       "      <th>KEGG_ID</th>\n",
       "      <th>category</th>\n",
       "      <th>Em_quantum_pH7_I25</th>\n",
       "      <th>Em_GCM_pH7_I25</th>\n",
       "      <th>Em_experiment_pH7_I25</th>\n",
       "      <th>KEGG</th>\n",
       "      <th>Unnamed: 7</th>\n",
       "      <th>Unnamed: 8</th>\n",
       "    </tr>\n",
       "  </thead>\n",
       "  <tbody>\n",
       "    <tr>\n",
       "      <th>0</th>\n",
       "      <td>Formate = Formaldehyde</td>\n",
       "      <td>C00058 = C00067 + C00001</td>\n",
       "      <td>1</td>\n",
       "      <td>-569.535139</td>\n",
       "      <td>NaN</td>\n",
       "      <td>-559.245286</td>\n",
       "      <td>NaN</td>\n",
       "      <td>Column</td>\n",
       "      <td>Description</td>\n",
       "    </tr>\n",
       "    <tr>\n",
       "      <th>5</th>\n",
       "      <td>Oxalate = Glyoxylate</td>\n",
       "      <td>C00209 = C00048 + C00001</td>\n",
       "      <td>1</td>\n",
       "      <td>-562.111149</td>\n",
       "      <td>-544.474061</td>\n",
       "      <td>-460.047533</td>\n",
       "      <td>NaN</td>\n",
       "      <td>NaN</td>\n",
       "      <td>NaN</td>\n",
       "    </tr>\n",
       "    <tr>\n",
       "      <th>7</th>\n",
       "      <td>Acetate = Acetaldehyde</td>\n",
       "      <td>C00033 = C00084 + C00001</td>\n",
       "      <td>1</td>\n",
       "      <td>-548.220682</td>\n",
       "      <td>-536.101106</td>\n",
       "      <td>-579.879311</td>\n",
       "      <td>NaN</td>\n",
       "      <td>NaN</td>\n",
       "      <td>NaN</td>\n",
       "    </tr>\n",
       "  </tbody>\n",
       "</table>\n",
       "</div>"
      ],
      "text/plain": [
       "         redox_pair_names                   KEGG_ID  category  \\\n",
       "0  Formate = Formaldehyde  C00058 = C00067 + C00001         1   \n",
       "5    Oxalate = Glyoxylate  C00209 = C00048 + C00001         1   \n",
       "7  Acetate = Acetaldehyde  C00033 = C00084 + C00001         1   \n",
       "\n",
       "   Em_quantum_pH7_I25  Em_GCM_pH7_I25  Em_experiment_pH7_I25  KEGG Unnamed: 7  \\\n",
       "0         -569.535139             NaN            -559.245286   NaN     Column   \n",
       "5         -562.111149     -544.474061            -460.047533   NaN        NaN   \n",
       "7         -548.220682     -536.101106            -579.879311   NaN        NaN   \n",
       "\n",
       "    Unnamed: 8  \n",
       "0  Description  \n",
       "5          NaN  \n",
       "7          NaN  "
      ]
     },
     "execution_count": 72,
     "metadata": {},
     "output_type": "execute_result"
    }
   ],
   "source": [
    "mask = np.logical_not(np.isnan(rxn_df['Em_experiment_pH7_I25']))\n",
    "mask = np.logical_and(mask, rxn_df['category'] != 3)\n",
    "rxns_w_exp_data_df = rxn_df[mask]\n",
    "rxns_w_exp_data_df.head(3)"
   ]
  },
  {
   "cell_type": "code",
   "execution_count": 75,
   "id": "6c990617-6c00-400f-9bf5-40f08e4ac15e",
   "metadata": {},
   "outputs": [
    {
     "data": {
      "image/png": "[encoded data removed]",
      "text/plain": [
       "<Figure size 144x576 with 1 Axes>"
      ]
     },
     "metadata": {
      "needs_background": "light"
     },
     "output_type": "display_data"
    }
   ],
   "source": [
    "plt.figure(figsize=(2,8))\n",
    "plt.gca().invert_yaxis()\n",
    "groups = rxns_w_exp_data_df.groupby('category')\n",
    "pal = sns.color_palette('dark')\n",
    "greys = sns.color_palette('Greys')\n",
    "\n",
    "labels = 'COOH->C=O,C=O->COH,COH->CH'.split(',')\n",
    "\n",
    "for i, (gid, gdf) in enumerate(groups):\n",
    "        \n",
    "    bottom = gdf['Em_experiment_pH7_I25'].min()\n",
    "    top = gdf['Em_experiment_pH7_I25'].max()\n",
    "    \n",
    "    l = labels[i]\n",
    "    plt.axhspan(bottom, top, 0.05, 0.5, edgecolor=pal[i],\n",
    "                facecolor=greys[0], lw=2, label=l, alpha=0.8)\n",
    "    \n",
    "    for idx, row in gdf.iterrows():\n",
    "        plt.axhline(row['Em_experiment_pH7_I25'], \n",
    "                    0.05, 0.5, color=pal[i],\n",
    "                    lw=2, alpha=0.8)\n",
    "    \n",
    "plt.axhline(800, 0.08, 0.5, color='grey', lw=5)\n",
    "\n",
    "plt.legend(loc='best')\n",
    "sns.despine(bottom=True)\n",
    "plt.xticks([])\n",
    "plt.yticks(fontsize=12)\n",
    "plt.ylabel(\"E' (mV)\", fontsize=12)\n",
    "plt.ylim(900, -700)\n",
    "\n",
    "plt.tight_layout()\n",
    "plt.savefig('../figures/richer.png', facecolor='w', dpi=600)\n",
    "plt.show()"
   ]
  },
  {
   "cell_type": "code",
   "execution_count": null,
   "id": "1343d71a-7888-47b1-a8d5-a6ee2024351a",
   "metadata": {},
   "outputs": [],
   "source": []
  }
 ],
 "metadata": {
  "kernelspec": {
   "display_name": "Python 3",
   "language": "python",
   "name": "python3"
  },
  "language_info": {
   "codemirror_mode": {
    "name": "ipython",
    "version": 3
   },
   "file_extension": ".py",
   "mimetype": "text/x-python",
   "name": "python",
   "nbconvert_exporter": "python",
   "pygments_lexer": "ipython3",
   "version": "3.8.2"
  }
 },
 "nbformat": 4,
 "nbformat_minor": 5
}
